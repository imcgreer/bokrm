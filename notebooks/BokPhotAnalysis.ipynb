{
 "cells": [
  {
   "cell_type": "code",
   "execution_count": 1,
   "metadata": {
    "collapsed": false
   },
   "outputs": [
    {
     "name": "stdout",
     "output_type": "stream",
     "text": [
      "Populating the interactive namespace from numpy and matplotlib\n"
     ]
    }
   ],
   "source": [
    "%pylab inline\n",
    "from matplotlib import ticker\n",
    "import sys\n",
    "sys.path.append('../')\n",
    "from astropy.table import Table,join\n",
    "from astropy.stats import sigma_clip\n",
    "import bokrmphot\n",
    "import os; _ = os.environ.setdefault('BOKRMDIR','..')"
   ]
  },
  {
   "cell_type": "code",
   "execution_count": 2,
   "metadata": {
    "collapsed": false
   },
   "outputs": [
    {
     "name": "stdout",
     "output_type": "stream",
     "text": [
      "loading references from sdssRefStars_DR13.fits.gz\n"
     ]
    }
   ],
   "source": [
    "sdssRef = bokrmphot.load_catalog('sdss')['catalog']\n",
    "sdssRefOld = bokrmphot.load_catalog('sdssold')['catalog']"
   ]
  },
  {
   "cell_type": "code",
   "execution_count": 3,
   "metadata": {
    "collapsed": false
   },
   "outputs": [],
   "source": [
    "def phot_stats(lcs,refPhot,band='g',apNum=3):\n",
    "    from scipy.stats import scoreatpercentile\n",
    "    if len(lcs.groups)==1:\n",
    "        lcs = lcs.group_by('objId')\n",
    "    medges = np.arange(16.9,19.11,0.2)\n",
    "    mbins = medges[:-1] + np.diff(medges)/2\n",
    "    all_dmag = []\n",
    "    all_stds = []\n",
    "    for mag1,mag2 in zip(medges[:-1],medges[1:]):\n",
    "        ref_ii = np.where((refPhot[band]>mag1)&(refPhot[band]<mag2))[0]\n",
    "        jj = np.where(np.in1d(lcs.groups.keys['objId'],ref_ii))[0]\n",
    "        dmag = []\n",
    "        stds = []\n",
    "        for j in jj:\n",
    "            mags = np.ma.masked_array(lcs.groups[j]['aperMag'][:,apNum],\n",
    "                          mask=( (lcs.groups[j]['flags'][:,apNum]>0) |\n",
    "                                 (lcs.groups[j]['aperMag'][:,apNum]>99) |\n",
    "                                 (lcs.groups[j]['filter'] != band) ) )\n",
    "            if mags.mask.all():\n",
    "                continue\n",
    "            mags = sigma_clip(mags,iters=1,sigma=5.0)\n",
    "            dmag.append((mags-mags.mean()).compressed())\n",
    "            stds.append((mags-mags.mean()).std())\n",
    "        dmag = np.concatenate(dmag)\n",
    "        stds = np.array(stds)\n",
    "        print '%.1f < m < %.1f  %3d / %3d matched --> %.3f %.3f' % \\\n",
    "               (mag1,mag2,len(jj),len(ref_ii),dmag.std(),np.median(stds))\n",
    "        all_dmag.append(dmag)\n",
    "        all_stds.append([scoreatpercentile(stds,_p) for _p in [25,50,75]])\n",
    "    all_stds = np.array(all_stds)\n",
    "    return all_dmag,all_stds"
   ]
  },
  {
   "cell_type": "code",
   "execution_count": 4,
   "metadata": {
    "collapsed": false
   },
   "outputs": [],
   "source": [
    "#sdssRefSep2014 = Table.read('../bokrmpipe_old/lightcurves_g.fits')\n",
    "sdssRefNov2015 = Table.read('../archive/bokrmpipe_old/lightcurves_g.fits')\n",
    "sdssRefNov2015['filter'] = 'g'\n",
    "#sdssRefJan2017_old = Table.read('../lightcurves_bokrm_sdss_g.fits')\n",
    "sdssRefJan2017 = Table.read('../bokrmphot_sdssstars.fits')"
   ]
  },
  {
   "cell_type": "code",
   "execution_count": 5,
   "metadata": {
    "collapsed": false
   },
   "outputs": [
    {
     "name": "stdout",
     "output_type": "stream",
     "text": [
      "16.9 < m < 17.1  160 / 189 matched --> 0.170 0.014\n",
      "17.1 < m < 17.3  202 / 241 matched --> 0.064 0.015\n",
      "17.3 < m < 17.5  201 / 242 matched --> 0.033 0.015\n",
      "17.5 < m < 17.7  222 / 262 matched --> 0.036 0.016\n",
      "17.7 < m < 17.9  263 / 305 matched --> 0.081 0.016\n",
      "17.9 < m < 18.1  273 / 319 matched --> 0.025 0.018\n",
      "18.1 < m < 18.3  304 / 343 matched --> 0.044 0.019\n",
      "18.3 < m < 18.5  318 / 384 matched --> 0.104 0.020\n",
      "18.5 < m < 18.7  335 / 403 matched --> 0.043 0.022\n",
      "18.7 < m < 18.9  339 / 435 matched --> 0.041 0.025\n",
      "18.9 < m < 19.1  381 / 449 matched --> 0.062 0.029\n"
     ]
    }
   ],
   "source": [
    "nov15_dmag_g,nov15_stds_g = phot_stats(sdssRefNov2015,sdssRefOld,'g')"
   ]
  },
  {
   "cell_type": "code",
   "execution_count": 6,
   "metadata": {
    "collapsed": false
   },
   "outputs": [
    {
     "name": "stdout",
     "output_type": "stream",
     "text": [
      "16.9 < m < 17.1  205 / 249 matched --> 0.036 0.011\n",
      "17.1 < m < 17.3  243 / 301 matched --> 0.024 0.011\n",
      "17.3 < m < 17.5  255 / 299 matched --> 0.033 0.011\n",
      "17.5 < m < 17.7  266 / 321 matched --> 0.015 0.012\n",
      "17.7 < m < 17.9  324 / 376 matched --> 0.043 0.012\n",
      "17.9 < m < 18.1  347 / 413 matched --> 0.016 0.013\n",
      "18.1 < m < 18.3  370 / 434 matched --> 0.023 0.014\n",
      "18.3 < m < 18.5  401 / 476 matched --> 0.023 0.015\n",
      "18.5 < m < 18.7  413 / 510 matched --> 0.026 0.018\n",
      "18.7 < m < 18.9  417 / 517 matched --> 0.026 0.019\n",
      "18.9 < m < 19.1  452 / 562 matched --> 0.051 0.023\n"
     ]
    }
   ],
   "source": [
    "jan17_dmag_g,jan17_stds_g = phot_stats(sdssRefJan2017,sdssRef,'g')"
   ]
  },
  {
   "cell_type": "code",
   "execution_count": 7,
   "metadata": {
    "collapsed": true
   },
   "outputs": [],
   "source": [
    "def plot_compare_scatters(stdslist,labels,colors='rgbcymk',filt='g'):\n",
    "    medges = np.arange(16.9,19.11,0.2)\n",
    "    mbins = medges[:-1] + np.diff(medges)/2\n",
    "    def _append_arr(arr):\n",
    "        return arr\n",
    "        # used this for drawstyle=steps-post, but no equiv. for fill_between\n",
    "        #return np.concatenate([arr,[arr[-1]]])\n",
    "    figure()\n",
    "    for s,l,c in zip(stdslist,labels,colors):\n",
    "        fill_between(mbins,_append_arr(s[:,0]),_append_arr(s[:,2]),\n",
    "                     edgecolor='none',color=c,alpha=0.5)\n",
    "        plot(mbins,_append_arr(s[:,1]),color=c,lw=1.5,label=l)\n",
    "    legend(loc='upper left')\n",
    "    xlabel('%s magnitude' % filt)\n",
    "    ylabel('per-object std [mag]')\n",
    "    xlim(17,19)"
   ]
  },
  {
   "cell_type": "code",
   "execution_count": 8,
   "metadata": {
    "collapsed": false
   },
   "outputs": [
    {
     "data": {
      "image/png": "[encoded data removed]",
      "text/plain": [
       "<matplotlib.figure.Figure at 0x7f368642e5d0>"
      ]
     },
     "metadata": {},
     "output_type": "display_data"
    }
   ],
   "source": [
    "plot_compare_scatters([nov15_stds_g,jan17_stds_g],['Nov15','Jan17'],'gb')"
   ]
  },
  {
   "cell_type": "markdown",
   "metadata": {
    "collapsed": true
   },
   "source": [
    "The scatter increases significantly if fainter stars are included in the zeropoint. Going from mag$<19.5$ to mag$<20.5$ more than doubles the scatter. Do not understand why this is..."
   ]
  },
  {
   "cell_type": "code",
   "execution_count": null,
   "metadata": {
    "collapsed": true
   },
   "outputs": [],
   "source": []
  }
 ],
 "metadata": {
  "anaconda-cloud": {},
  "kernelspec": {
   "display_name": "Python [default]",
   "language": "python",
   "name": "python2"
  },
  "language_info": {
   "codemirror_mode": {
    "name": "ipython",
    "version": 2
   },
   "file_extension": ".py",
   "mimetype": "text/x-python",
   "name": "python",
   "nbconvert_exporter": "python",
   "pygments_lexer": "ipython2",
   "version": "2.7.12"
  }
 },
 "nbformat": 4,
 "nbformat_minor": 1
}
